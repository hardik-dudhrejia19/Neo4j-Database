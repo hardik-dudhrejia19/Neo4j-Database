{
 "cells": [
  {
   "cell_type": "markdown",
   "metadata": {},
   "source": [
    "# Importing the required libraries"
   ]
  },
  {
   "cell_type": "code",
   "execution_count": 1,
   "metadata": {},
   "outputs": [],
   "source": [
    "from bs4 import BeautifulSoup as soup\n",
    "from urllib.request import urlopen as req"
   ]
  },
  {
   "cell_type": "markdown",
   "metadata": {},
   "source": [
    "# Parsing the url of the main page"
   ]
  },
  {
   "cell_type": "code",
   "execution_count": 2,
   "metadata": {},
   "outputs": [],
   "source": [
    "content = soup(req(\"https://oceana.ca/en/marine-life/canadian-marine-life-encyclopedia\"))"
   ]
  },
  {
   "cell_type": "markdown",
   "metadata": {},
   "source": [
    "# Now from here we will not create a separate code to scrap the data for individual animals. We will scrap data from each page using the href tags containing the links"
   ]
  },
  {
   "cell_type": "code",
   "execution_count": 3,
   "metadata": {},
   "outputs": [
    {
     "name": "stdout",
     "output_type": "stream",
     "text": [
      "\n",
      "\n",
      "\n",
      "\n",
      "\n",
      "\n",
      "\n",
      "\n",
      "\n",
      "\n",
      "\n",
      "\n",
      "\n",
      "\n",
      "\n",
      "\n",
      "\n",
      "\n",
      "\n",
      "\n",
      "\n",
      "\n",
      "\n",
      "\n",
      "\n",
      "\n",
      "\n",
      "\n",
      "\n",
      "\n",
      "\n",
      "\n",
      "\n",
      "\n",
      "\n",
      "\n",
      "\n",
      "\n",
      "\n",
      "\n",
      "\n",
      "\n",
      "\n",
      "\n",
      "\n",
      "\n",
      "\n",
      "\n",
      "\n",
      "\n",
      "\n",
      "\n",
      "\n",
      "\n",
      "\n",
      "\n",
      "\n",
      "\n",
      "\n",
      "\n",
      "\n",
      "\n",
      "\n",
      "\n",
      "\n",
      "\n",
      "\n",
      "\n",
      "\n",
      "\n",
      "\n",
      "\n",
      "\n",
      "\n",
      "\n",
      "\n",
      "\n",
      "\n",
      "\n",
      "\n",
      "\n",
      "\n",
      "\n",
      "\n",
      "\n",
      "\n",
      "\n",
      "\n",
      "\n",
      "\n",
      "\n",
      "\n",
      "\n",
      "\n",
      "\n",
      "\n",
      "\n",
      "\n",
      "\n",
      "\n",
      "\n",
      "\n",
      "\n",
      "\n",
      "\n",
      "\n",
      "\n",
      "\n",
      "\n",
      "\n",
      "\n",
      "\n",
      "\n",
      "\n",
      "\n",
      "\n",
      "\n"
     ]
    }
   ],
   "source": [
    "sections = content.findAll(\"div\",{\"class\":\"overlay\"})\n",
    "\n",
    "finalList=[\"animal_id\\tname\\talso_known_as\\tdistribution\\tecosystem_habitat\\tfeeding_habits\\tconservation_status\\tTaxonomy\"]\n",
    "check = [\"Also known as\",\"Distribution\",\"Ecosystem/Habitat\",\"Feeding Habits\",\"Conservation Status\",\"Taxonomy\"]\n",
    "headList = []\n",
    "line = \"\"\n",
    "count = 0\n",
    "for section in sections:\n",
    "    data = soup(req(\"https://oceana.ca\" + section.a[\"href\"]))\n",
    "\n",
    "    description = data.findAll(\"div\",{\"class\":\"animal-details-side animal-details-side-canada\"})\n",
    "\n",
    "    name = data.findAll(\"div\",{\"class\":\"subpage-header-inner\"})[0].h1.text.strip()\n",
    "    heads = description[0].findAll(\"h2\")\n",
    "    for head in heads:\n",
    "        headList.append(head.text.strip())\n",
    "    line = \"animal_id_{}\\t{}\\t\".format((count + 1), name)\n",
    "    info = description[0].findAll(\"p\")\n",
    "    for i in range(len(info)):\n",
    "        if(check[i] in headList):\n",
    "            line = line + info[i].text.strip() + \"\\t\"\n",
    "        else:\n",
    "            line = line + \"Null\\t\" + info[i].text.strip() + \"\\t\"\n",
    "    finalList.append(line)\n",
    "    print(\"\\n\\n\")\n",
    "    headList = []\n",
    "    line = \"\"\n",
    "    count += 1"
   ]
  },
  {
   "cell_type": "markdown",
   "metadata": {},
   "source": [
    "# Writing the result to a tsv file"
   ]
  },
  {
   "cell_type": "code",
   "execution_count": 5,
   "metadata": {},
   "outputs": [],
   "source": [
    "result = \"\\n\".join(finalList)\n",
    "fout = open(\"C:\\\\Users\\\\Hardik\\\\Desktop\\\\data.tsv\",\"w\")\n",
    "fout.write(result)\n",
    "fout.close()"
   ]
  },
  {
   "cell_type": "code",
   "execution_count": null,
   "metadata": {},
   "outputs": [],
   "source": []
  }
 ],
 "metadata": {
  "kernelspec": {
   "display_name": "Python 3",
   "language": "python",
   "name": "python3"
  },
  "language_info": {
   "codemirror_mode": {
    "name": "ipython",
    "version": 3
   },
   "file_extension": ".py",
   "mimetype": "text/x-python",
   "name": "python",
   "nbconvert_exporter": "python",
   "pygments_lexer": "ipython3",
   "version": "3.7.3"
  }
 },
 "nbformat": 4,
 "nbformat_minor": 2
}
