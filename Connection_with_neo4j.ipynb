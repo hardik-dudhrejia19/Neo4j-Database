{
 "cells": [
  {
   "cell_type": "markdown",
   "metadata": {},
   "source": [
    "# Importing the required libraries"
   ]
  },
  {
   "cell_type": "code",
   "execution_count": 1,
   "metadata": {},
   "outputs": [],
   "source": [
    "from neo4j import GraphDatabase"
   ]
  },
  {
   "cell_type": "markdown",
   "metadata": {},
   "source": [
    "# Connecting to the neo4j database"
   ]
  },
  {
   "cell_type": "code",
   "execution_count": 2,
   "metadata": {},
   "outputs": [],
   "source": [
    "db = GraphDatabase.driver(uri = \"bolt://localhost:7687\", auth = (\"neo4j\",\"12345\"))"
   ]
  },
  {
   "cell_type": "code",
   "execution_count": 3,
   "metadata": {},
   "outputs": [
    {
     "data": {
      "text/plain": [
       "neo4j.DirectDriver"
      ]
     },
     "execution_count": 3,
     "metadata": {},
     "output_type": "execute_result"
    }
   ],
   "source": [
    "type(db)"
   ]
  },
  {
   "cell_type": "code",
   "execution_count": 4,
   "metadata": {},
   "outputs": [],
   "source": [
    "session = db.session()"
   ]
  },
  {
   "cell_type": "code",
   "execution_count": 5,
   "metadata": {},
   "outputs": [
    {
     "data": {
      "text/plain": [
       "neo4j.Session"
      ]
     },
     "execution_count": 5,
     "metadata": {},
     "output_type": "execute_result"
    }
   ],
   "source": [
    "type(session)"
   ]
  },
  {
   "cell_type": "markdown",
   "metadata": {},
   "source": [
    "# Opening the dataset file which was obtained by  scrapping the website"
   ]
  },
  {
   "cell_type": "code",
   "execution_count": 6,
   "metadata": {},
   "outputs": [],
   "source": [
    "fout = open(\"C:\\\\Users\\\\Hardik\\\\Desktop\\\\clean_data.tsv\",\"r\")"
   ]
  },
  {
   "cell_type": "code",
   "execution_count": 7,
   "metadata": {},
   "outputs": [],
   "source": [
    "lines = fout.readlines()"
   ]
  },
  {
   "cell_type": "markdown",
   "metadata": {},
   "source": [
    "# Creating nodes for the animals"
   ]
  },
  {
   "cell_type": "code",
   "execution_count": 8,
   "metadata": {},
   "outputs": [],
   "source": [
    "animal_lis = []\n",
    "for line in range(1,len(lines)):\n",
    "    animal_lis = lines[line].split(\"\\t\")\n",
    "    query = \"create(a:animal {name:'%s',known_as:'%s',distribution:'%s',ecosystem_habitat:'%s',conservation_status:'%s'})\"%(animal_lis[1],animal_lis[2],animal_lis[3],animal_lis[4],animal_lis[6])\n",
    "    session.run(query)\n",
    "    animal_lis = []"
   ]
  },
  {
   "cell_type": "markdown",
   "metadata": {},
   "source": [
    "# Creating relationships between the animals having same ecosystem/habitats"
   ]
  },
  {
   "cell_type": "code",
   "execution_count": 9,
   "metadata": {},
   "outputs": [],
   "source": [
    "habit_edge_lis = []\n",
    "for line in range(1,len(lines)):\n",
    "    habit_edge_lis = lines[line].split(\"\\t\")\n",
    "    temp =\"match(a:animal),(b:animal)where a.ecosystem_habitat='%s' and b.ecosystem_habitat='%s' and a<>b merge(a)-[r:neighbour]->(b)\"%(habit_edge_lis[4],habit_edge_lis[4])   \n",
    "    session.run(temp)\n",
    "    habit_edge_lis = []"
   ]
  },
  {
   "cell_type": "markdown",
   "metadata": {},
   "source": [
    "# Creating nodes for feeding habits"
   ]
  },
  {
   "cell_type": "code",
   "execution_count": 10,
   "metadata": {},
   "outputs": [],
   "source": [
    "habit_lis = []\n",
    "for line in range(1,len(lines)):\n",
    "    habit_lis = lines[line].split(\"\\t\")\n",
    "    habit_query = \"merge(h:habitat {name:'%s'})\"%(habit_lis[5])\n",
    "    session.run(habit_query)\n",
    "    habit_lis = []"
   ]
  },
  {
   "cell_type": "markdown",
   "metadata": {},
   "source": [
    "# Creating relationships between the animals and ther respective feeding habits"
   ]
  },
  {
   "cell_type": "code",
   "execution_count": 11,
   "metadata": {},
   "outputs": [],
   "source": [
    "edge_lis = []\n",
    "for line in range(1,len(lines)):\n",
    "    edge_lis = lines[line].split(\"\\t\")\n",
    "    temp =\"match(a:animal),(h:habitat)where a.name='%s' and h.name='%s' create(a)-[r:Identical_Feeding_Habits]->(h)\"%(edge_lis[1],edge_lis[5])   \n",
    "    session.run(temp)\n",
    "    edge_lis = []"
   ]
  },
  {
   "cell_type": "code",
   "execution_count": null,
   "metadata": {},
   "outputs": [],
   "source": [
    "\n"
   ]
  }
 ],
 "metadata": {
  "kernelspec": {
   "display_name": "Python 3",
   "language": "python",
   "name": "python3"
  },
  "language_info": {
   "codemirror_mode": {
    "name": "ipython",
    "version": 3
   },
   "file_extension": ".py",
   "mimetype": "text/x-python",
   "name": "python",
   "nbconvert_exporter": "python",
   "pygments_lexer": "ipython3",
   "version": "3.7.3"
  }
 },
 "nbformat": 4,
 "nbformat_minor": 2
}
