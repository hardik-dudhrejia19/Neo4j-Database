{
 "cells": [
  {
   "cell_type": "markdown",
   "metadata": {},
   "source": [
    "# Openeing the tsv file"
   ]
  },
  {
   "cell_type": "code",
   "execution_count": 2,
   "metadata": {},
   "outputs": [],
   "source": [
    "fin = open(\"C:\\\\Users\\\\Hardik\\\\Desktop\\\\data.tsv\",\"r\")"
   ]
  },
  {
   "cell_type": "code",
   "execution_count": 3,
   "metadata": {},
   "outputs": [],
   "source": [
    "lines = fin.readlines()\n",
    "fin.close()"
   ]
  },
  {
   "cell_type": "markdown",
   "metadata": {},
   "source": [
    "# Reading each cell and removing/replacing the special characters, also keeping everything in lower case"
   ]
  },
  {
   "cell_type": "code",
   "execution_count": 4,
   "metadata": {},
   "outputs": [],
   "source": [
    "result = []\n",
    "new_line = \"\"\n",
    "for line in lines:\n",
    "    words = line.split(\"\\t\")\n",
    "    for word in words:\n",
    "        word = word.lower().replace(\"/\",\" or \",39).replace(\",\",\" or\",39).replace(\";\",\"\").replace(\"&\",\"and\").replace(\":\",\"\").replace(\"-\",\" \").replace(\"\\n\",\"\")\n",
    "        new_line += word + \"\\t\"\n",
    "    result.append(new_line)\n",
    "    new_line = \"\""
   ]
  },
  {
   "cell_type": "markdown",
   "metadata": {},
   "source": [
    "# Writing it to a new tsv file"
   ]
  },
  {
   "cell_type": "code",
   "execution_count": 5,
   "metadata": {},
   "outputs": [],
   "source": [
    "answer = \"\\n\".join(result)\n",
    "fout = open(\"C:\\\\Users\\\\Hardik\\\\Desktop\\\\clean_data.tsv\",\"w\")\n",
    "fout.write(answer)\n",
    "fout.close()"
   ]
  },
  {
   "cell_type": "code",
   "execution_count": null,
   "metadata": {},
   "outputs": [],
   "source": []
  }
 ],
 "metadata": {
  "kernelspec": {
   "display_name": "Python 3",
   "language": "python",
   "name": "python3"
  },
  "language_info": {
   "codemirror_mode": {
    "name": "ipython",
    "version": 3
   },
   "file_extension": ".py",
   "mimetype": "text/x-python",
   "name": "python",
   "nbconvert_exporter": "python",
   "pygments_lexer": "ipython3",
   "version": "3.7.3"
  }
 },
 "nbformat": 4,
 "nbformat_minor": 2
}
